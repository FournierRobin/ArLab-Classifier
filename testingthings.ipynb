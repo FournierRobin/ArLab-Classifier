{
 "cells": [
  {
   "cell_type": "code",
   "execution_count": 3,
   "metadata": {},
   "outputs": [],
   "source": [
    "import os\n",
    "import datetime as dt\n",
    "from clearml import Task\n"
   ]
  },
  {
   "cell_type": "code",
   "execution_count": 7,
   "metadata": {},
   "outputs": [
    {
     "name": "stdout",
     "output_type": "stream",
     "text": [
      "2023-05-03 15:55:35,524 - clearml.util - WARNING - 6 task found when searching for `{'project_name': 'ArLab Classifier', 'task_name': '2 : Preprocess dataset 03-05', 'include_archived': True}`\n",
      "2023-05-03 15:55:35,524 - clearml.util - WARNING - Selected task `2 : Preprocess dataset 03-05` (id=c289e64c1a7b47cd807ebf6b032a0f29)\n",
      "dict_keys(['X_test', 'X_train', 'vectorizer', 'y_test', 'y_train'])\n"
     ]
    }
   ],
   "source": [
    "os.environ['CLEARML_API_HOST'] = \"https://api.clear.ml\"\n",
    "os.environ['CLEARML_WEB_HOST'] = \"https://app.clear.ml\"\n",
    "os.environ['CLEARML_FILES_HOST'] = \"https://files.clear.ml\"\n",
    "os.environ['CLEARML_API_ACCESS_KEY'] = \"NXRS736MXOJ50V3NIZD5\"\n",
    "os.environ['CLEARML_API_SECRET_KEY'] = \"ibFYNMzbUiVb8VpRZOZducTBVRUHfpDMWLe4AQE2C4vrsnl4JU\"\n",
    "\n",
    "current_date = dt.datetime.now().strftime('%d-%m')\n",
    "#task = Task.init(project_name=\"ArLab Classifier\", task_name=f\"3 : Train model {current_date}\")\n",
    "\n",
    "dataset_task = Task.get_task(project_name=\"ArLab Classifier\", task_name=f\"2 : Preprocess dataset {current_date}\")\n",
    "print(dataset_task.artifacts.keys())"
   ]
  },
  {
   "cell_type": "code",
   "execution_count": null,
   "metadata": {},
   "outputs": [],
   "source": [
    "https://files.clear.ml/ArLab%20Classifier/2%20%253A%20Preprocess%20dataset%2003-05.8ea36bd96b3546f991a879c9134ee82f/artifacts/y_test/y_test.pkl\n",
    "https://files.clear.ml/ArLab%20Classifier/2%20%253A%20Preprocess%20dataset%2003-05.8ea36bd96b3546f991a879c9134ee82f/artifacts/y_test/y_test.pkl"
   ]
  },
  {
   "cell_type": "code",
   "execution_count": 2,
   "metadata": {},
   "outputs": [],
   "source": [
    "from pydantic import BaseModel\n",
    "import joblib"
   ]
  },
  {
   "cell_type": "code",
   "execution_count": 3,
   "metadata": {},
   "outputs": [
    {
     "name": "stderr",
     "output_type": "stream",
     "text": [
      "/Users/robinfournier/Desktop/arlab/arlabenv/lib/python3.10/site-packages/sklearn/base.py:318: UserWarning: Trying to unpickle estimator MultinomialNB from version 1.0.2 when using version 1.2.2. This might lead to breaking code or invalid results. Use at your own risk. For more info please refer to:\n",
      "https://scikit-learn.org/stable/model_persistence.html#security-maintainability-limitations\n",
      "  warnings.warn(\n",
      "/Users/robinfournier/Desktop/arlab/arlabenv/lib/python3.10/site-packages/sklearn/base.py:318: UserWarning: Trying to unpickle estimator CountVectorizer from version 1.0.2 when using version 1.2.2. This might lead to breaking code or invalid results. Use at your own risk. For more info please refer to:\n",
      "https://scikit-learn.org/stable/model_persistence.html#security-maintainability-limitations\n",
      "  warnings.warn(\n"
     ]
    }
   ],
   "source": [
    "\n",
    "\n",
    "# Define input and output data types\n",
    "class InputData(BaseModel):\n",
    "    text: str\n",
    "\n",
    "class OutputData(BaseModel):\n",
    "    label: str\n",
    "    confidence: float\n",
    "\n",
    "def predict(input_data: InputData):\n",
    "    # Process the input data\n",
    "    text = input_data.text\n",
    "    X = vectorizer.transform([text])\n",
    "\n",
    "    # Pass the data through your model to get the prediction\n",
    "    pred = model.predict(X)\n",
    "    proba = model.predict_proba(X)[0][pred]\n",
    "\n",
    "    # Return the prediction as output data\n",
    "    return {\"label\": pred[0], \"confidence\": proba}"
   ]
  },
  {
   "cell_type": "code",
   "execution_count": 6,
   "metadata": {},
   "outputs": [
    {
     "name": "stderr",
     "output_type": "stream",
     "text": [
      "/Users/robinfournier/Desktop/arlab/arlabenv/lib/python3.10/site-packages/sklearn/base.py:318: UserWarning: Trying to unpickle estimator MultinomialNB from version 1.0.2 when using version 1.2.2. This might lead to breaking code or invalid results. Use at your own risk. For more info please refer to:\n",
      "https://scikit-learn.org/stable/model_persistence.html#security-maintainability-limitations\n",
      "  warnings.warn(\n",
      "/Users/robinfournier/Desktop/arlab/arlabenv/lib/python3.10/site-packages/sklearn/base.py:318: UserWarning: Trying to unpickle estimator CountVectorizer from version 1.0.2 when using version 1.2.2. This might lead to breaking code or invalid results. Use at your own risk. For more info please refer to:\n",
      "https://scikit-learn.org/stable/model_persistence.html#security-maintainability-limitations\n",
      "  warnings.warn(\n"
     ]
    }
   ],
   "source": [
    "model = joblib.load(\"models/nb_03-05.pkl\")\n",
    "vectorizer = joblib.load(\"models/vectorizer.pkl\")"
   ]
  },
  {
   "cell_type": "code",
   "execution_count": 7,
   "metadata": {},
   "outputs": [],
   "source": [
    "text = \"i don't know\"\n",
    "X = vectorizer.transform([text])"
   ]
  },
  {
   "cell_type": "code",
   "execution_count": 3,
   "metadata": {},
   "outputs": [
    {
     "ename": "UnpicklingError",
     "evalue": "invalid load key, 'x'.",
     "output_type": "error",
     "traceback": [
      "\u001b[0;31m---------------------------------------------------------------------------\u001b[0m",
      "\u001b[0;31mUnpicklingError\u001b[0m                           Traceback (most recent call last)",
      "Cell \u001b[0;32mIn[3], line 3\u001b[0m\n\u001b[1;32m      1\u001b[0m \u001b[39mimport\u001b[39;00m \u001b[39mpickle\u001b[39;00m\n\u001b[1;32m      2\u001b[0m \u001b[39mwith\u001b[39;00m \u001b[39mopen\u001b[39m(\u001b[39m\"\u001b[39m\u001b[39mmodels/nb_03-05.pkl\u001b[39m\u001b[39m\"\u001b[39m, \u001b[39m'\u001b[39m\u001b[39mrb\u001b[39m\u001b[39m'\u001b[39m) \u001b[39mas\u001b[39;00m f:\n\u001b[0;32m----> 3\u001b[0m     nb_model, vectorizer \u001b[39m=\u001b[39m pickle\u001b[39m.\u001b[39;49mload(f)\n",
      "\u001b[0;31mUnpicklingError\u001b[0m: invalid load key, 'x'."
     ]
    }
   ],
   "source": []
  },
  {
   "cell_type": "code",
   "execution_count": null,
   "metadata": {},
   "outputs": [],
   "source": [
    "api:\n",
    "    build:\n",
    "      context: ./api\n",
    "      dockerfile: ./Dockerfile\n",
    "    environment:\n",
    "      <<: *airflow-common-env\n",
    "    ports:\n",
    "      - \"8000:8000\"\n",
    "    volumes:\n",
    "      - ./models:/app/models"
   ]
  },
  {
   "cell_type": "code",
   "execution_count": 5,
   "metadata": {},
   "outputs": [],
   "source": [
    "import pandas as pd\n",
    "from sklearn.feature_extraction.text import CountVectorizer\n",
    "from sklearn.model_selection import train_test_split\n",
    "\n"
   ]
  },
  {
   "cell_type": "code",
   "execution_count": null,
   "metadata": {},
   "outputs": [],
   "source": [
    "df = pd.read_csv(f'datasets/full_articles_{current_date}.csv')\n",
    "\n",
    "df = df.dropna()\n",
    "X_train, X_test, y_train, y_test = train_test_split(df['article_text'], df['label'], test_size=0.2, random_state=42)\n",
    "vectorizer = CountVectorizer(stop_words=custom_stopwords_fr())\n",
    "X_train = vectorizer.fit_transform(X_train)\n",
    "X_test = vectorizer.transform(X_test)"
   ]
  },
  {
   "cell_type": "code",
   "execution_count": 2,
   "metadata": {},
   "outputs": [],
   "source": [
    "import requests"
   ]
  },
  {
   "cell_type": "code",
   "execution_count": 3,
   "metadata": {},
   "outputs": [
    {
     "name": "stdout",
     "output_type": "stream",
     "text": [
      "{'label': 'basket'}\n"
     ]
    }
   ],
   "source": [
    "api_url = \"http://0.0.0.0:8000/predict\"\n",
    "\n",
    "response = requests.post(api_url, json={\"text\": \"Je trouve très fort le joueur micheal jordan\"})\n",
    "    \n",
    "    \n",
    "    # Display the response\n",
    "if response.status_code == 200:\n",
    "    print(response.json())\n",
    "else:\n",
    "    print(\"Error:\", response.status_code)"
   ]
  },
  {
   "cell_type": "code",
   "execution_count": 6,
   "metadata": {},
   "outputs": [
    {
     "data": {
      "text/plain": [
       "'basket'"
      ]
     },
     "execution_count": 6,
     "metadata": {},
     "output_type": "execute_result"
    }
   ],
   "source": [
    "response.json()['label']"
   ]
  },
  {
   "cell_type": "code",
   "execution_count": null,
   "metadata": {},
   "outputs": [],
   "source": []
  },
  {
   "cell_type": "code",
   "execution_count": 1,
   "metadata": {},
   "outputs": [],
   "source": [
    "import pandas as pd\n",
    "\n",
    "df = pd.read_csv('datasets/full_articles_04-05.csv')"
   ]
  },
  {
   "cell_type": "code",
   "execution_count": 2,
   "metadata": {},
   "outputs": [
    {
     "data": {
      "text/html": [
       "<div>\n",
       "<style scoped>\n",
       "    .dataframe tbody tr th:only-of-type {\n",
       "        vertical-align: middle;\n",
       "    }\n",
       "\n",
       "    .dataframe tbody tr th {\n",
       "        vertical-align: top;\n",
       "    }\n",
       "\n",
       "    .dataframe thead th {\n",
       "        text-align: right;\n",
       "    }\n",
       "</style>\n",
       "<table border=\"1\" class=\"dataframe\">\n",
       "  <thead>\n",
       "    <tr style=\"text-align: right;\">\n",
       "      <th></th>\n",
       "      <th>title</th>\n",
       "      <th>description</th>\n",
       "      <th>article_text</th>\n",
       "      <th>label</th>\n",
       "    </tr>\n",
       "  </thead>\n",
       "  <tbody>\n",
       "    <tr>\n",
       "      <th>0</th>\n",
       "      <td>NBA – Méconnaissable, Anthony Davis calciné pa...</td>\n",
       "      <td>Pour beaucoup, Anthony Davis est censé être le...</td>\n",
       "      <td>Cette saison, il semblait avoir véritablement ...</td>\n",
       "      <td>basket</td>\n",
       "    </tr>\n",
       "    <tr>\n",
       "      <th>1</th>\n",
       "      <td>Le voeu du président de l'Atlético Madrid conc...</td>\n",
       "      <td>Lionel Messi et Cristiano Ronaldo ont marqué l...</td>\n",
       "      <td>Cristiano Ronaldo et Lionel Messi n'ont jamai...</td>\n",
       "      <td>football</td>\n",
       "    </tr>\n",
       "    <tr>\n",
       "      <th>2</th>\n",
       "      <td>Pas de Ligue des champions ? Le Barça va jouer...</td>\n",
       "      <td>Le FC Barcelone connait les enjeux en ce qui c...</td>\n",
       "      <td>Le département espagnol de lutte contre la co...</td>\n",
       "      <td>football</td>\n",
       "    </tr>\n",
       "    <tr>\n",
       "      <th>3</th>\n",
       "      <td>Igor Tudor réagit à la polémique Matteo Guendouzi</td>\n",
       "      <td>Ce vendredi, Igor Tudor a réagi en conférence ...</td>\n",
       "      <td>Ces derniers jours, des fuites dans la presse...</td>\n",
       "      <td>football</td>\n",
       "    </tr>\n",
       "    <tr>\n",
       "      <th>4</th>\n",
       "      <td>CLASSEMENT : Les meilleures - et les pires - s...</td>\n",
       "      <td>Depuis que le légendaire écossais a quitté le ...</td>\n",
       "      <td>Cela fait dix ans que Sir Alex Ferguson a bou...</td>\n",
       "      <td>football</td>\n",
       "    </tr>\n",
       "    <tr>\n",
       "      <th>...</th>\n",
       "      <td>...</td>\n",
       "      <td>...</td>\n",
       "      <td>...</td>\n",
       "      <td>...</td>\n",
       "    </tr>\n",
       "    <tr>\n",
       "      <th>945</th>\n",
       "      <td>NBA – Les images dingues du manoir à 31 millio...</td>\n",
       "      <td>Ultra-dominant quand il joue mais trop souvent...</td>\n",
       "      <td>On peut le dire, il est compliqué de juger le ...</td>\n",
       "      <td>basket</td>\n",
       "    </tr>\n",
       "    <tr>\n",
       "      <th>946</th>\n",
       "      <td>NBA – Un proche de Michael Jordan : « J’ai dû ...</td>\n",
       "      <td>Malgré son statut de légende vivante en NBA, L...</td>\n",
       "      <td>En compagnie des cuvées de draft 1984 et 1996,...</td>\n",
       "      <td>basket</td>\n",
       "    </tr>\n",
       "    <tr>\n",
       "      <th>947</th>\n",
       "      <td>\"Cristiano Ronaldo va salir sa légende à Al-Na...</td>\n",
       "      <td>Le transfert de Cristiano Ronaldo à Al-Nassr a...</td>\n",
       "      <td>Le quintuple Ballon d'Or a froncé les sourcil...</td>\n",
       "      <td>football</td>\n",
       "    </tr>\n",
       "    <tr>\n",
       "      <th>948</th>\n",
       "      <td>TRANSFERT. 27 essais en 27 capes : et si le pr...</td>\n",
       "      <td>Meilleur marqueur de l’histoire de la Géorgie,...</td>\n",
       "      <td>L’an dernier, au moment d’apprendre qu’un cert...</td>\n",
       "      <td>rugby</td>\n",
       "    </tr>\n",
       "    <tr>\n",
       "      <th>949</th>\n",
       "      <td>NBA – Après le désastre, nouvelle grosse contr...</td>\n",
       "      <td>Éliminé d’entrée de jeu pendant la post-season...</td>\n",
       "      <td>Avec 58 victoires pour 24 défaites, les Bucks ...</td>\n",
       "      <td>basket</td>\n",
       "    </tr>\n",
       "  </tbody>\n",
       "</table>\n",
       "<p>950 rows × 4 columns</p>\n",
       "</div>"
      ],
      "text/plain": [
       "                                                 title   \n",
       "0    NBA – Méconnaissable, Anthony Davis calciné pa...  \\\n",
       "1    Le voeu du président de l'Atlético Madrid conc...   \n",
       "2    Pas de Ligue des champions ? Le Barça va jouer...   \n",
       "3    Igor Tudor réagit à la polémique Matteo Guendouzi   \n",
       "4    CLASSEMENT : Les meilleures - et les pires - s...   \n",
       "..                                                 ...   \n",
       "945  NBA – Les images dingues du manoir à 31 millio...   \n",
       "946  NBA – Un proche de Michael Jordan : « J’ai dû ...   \n",
       "947  \"Cristiano Ronaldo va salir sa légende à Al-Na...   \n",
       "948  TRANSFERT. 27 essais en 27 capes : et si le pr...   \n",
       "949  NBA – Après le désastre, nouvelle grosse contr...   \n",
       "\n",
       "                                           description   \n",
       "0    Pour beaucoup, Anthony Davis est censé être le...  \\\n",
       "1    Lionel Messi et Cristiano Ronaldo ont marqué l...   \n",
       "2    Le FC Barcelone connait les enjeux en ce qui c...   \n",
       "3    Ce vendredi, Igor Tudor a réagi en conférence ...   \n",
       "4    Depuis que le légendaire écossais a quitté le ...   \n",
       "..                                                 ...   \n",
       "945  Ultra-dominant quand il joue mais trop souvent...   \n",
       "946  Malgré son statut de légende vivante en NBA, L...   \n",
       "947  Le transfert de Cristiano Ronaldo à Al-Nassr a...   \n",
       "948  Meilleur marqueur de l’histoire de la Géorgie,...   \n",
       "949  Éliminé d’entrée de jeu pendant la post-season...   \n",
       "\n",
       "                                          article_text     label  \n",
       "0    Cette saison, il semblait avoir véritablement ...    basket  \n",
       "1     Cristiano Ronaldo et Lionel Messi n'ont jamai...  football  \n",
       "2     Le département espagnol de lutte contre la co...  football  \n",
       "3     Ces derniers jours, des fuites dans la presse...  football  \n",
       "4     Cela fait dix ans que Sir Alex Ferguson a bou...  football  \n",
       "..                                                 ...       ...  \n",
       "945  On peut le dire, il est compliqué de juger le ...    basket  \n",
       "946  En compagnie des cuvées de draft 1984 et 1996,...    basket  \n",
       "947   Le quintuple Ballon d'Or a froncé les sourcil...  football  \n",
       "948  L’an dernier, au moment d’apprendre qu’un cert...     rugby  \n",
       "949  Avec 58 victoires pour 24 défaites, les Bucks ...    basket  \n",
       "\n",
       "[950 rows x 4 columns]"
      ]
     },
     "execution_count": 2,
     "metadata": {},
     "output_type": "execute_result"
    }
   ],
   "source": [
    "df"
   ]
  },
  {
   "cell_type": "code",
   "execution_count": null,
   "metadata": {},
   "outputs": [],
   "source": []
  }
 ],
 "metadata": {
  "kernelspec": {
   "display_name": "arlabenv",
   "language": "python",
   "name": "python3"
  },
  "language_info": {
   "codemirror_mode": {
    "name": "ipython",
    "version": 3
   },
   "file_extension": ".py",
   "mimetype": "text/x-python",
   "name": "python",
   "nbconvert_exporter": "python",
   "pygments_lexer": "ipython3",
   "version": "3.10.10"
  },
  "orig_nbformat": 4
 },
 "nbformat": 4,
 "nbformat_minor": 2
}
